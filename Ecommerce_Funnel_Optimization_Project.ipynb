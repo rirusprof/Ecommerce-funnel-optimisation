{
 "cells": [
  {
   "cell_type": "markdown",
   "id": "df101737",
   "metadata": {},
   "source": [
    "# 🛍️ E-commerce Sales Funnel Optimization Project\n",
    "\n",
    "This project analyzes user behavior through the e-commerce sales funnel to identify drop-off points and suggest improvements to increase conversions."
   ]
  },
  {
   "cell_type": "code",
   "execution_count": null,
   "id": "503f27a0",
   "metadata": {},
   "outputs": [],
   "source": [
    "# 📥 Step 1: Load the Data\n",
    "import pandas as pd\n",
    "\n",
    "df = pd.read_csv(\"ecommerce_funnel_data.csv\", parse_dates=[\"timestamp\"])\n",
    "df.head()"
   ]
  },
  {
   "cell_type": "code",
   "execution_count": null,
   "id": "db9ebd89",
   "metadata": {},
   "outputs": [],
   "source": [
    "# 📊 Step 2: Data Overview\n",
    "print(\"Total rows:\", len(df))\n",
    "print(\"Unique users:\", df['user_id'].nunique())\n",
    "df['event'].value_counts()"
   ]
  },
  {
   "cell_type": "code",
   "execution_count": null,
   "id": "afc4b947",
   "metadata": {},
   "outputs": [],
   "source": [
    "# 📉 Step 3: Funnel Stage Counts\n",
    "funnel_order = [\"landing_page\", \"product_page_view\", \"add_to_cart\", \"checkout_started\", \"payment_entered\", \"purchase_completed\"]\n",
    "\n",
    "funnel_data = df.groupby(\"event\")[\"user_id\"].nunique().reindex(funnel_order)\n",
    "funnel_data = funnel_data.rename(\"Users\").reset_index()\n",
    "funnel_data[\"Drop-off Rate (%)\"] = funnel_data[\"Users\"].pct_change(-1).abs().fillna(0) * 100\n",
    "funnel_data"
   ]
  },
  {
   "cell_type": "code",
   "execution_count": null,
   "id": "81476b66",
   "metadata": {},
   "outputs": [],
   "source": [
    "# 📈 Step 4: Funnel Visualization\n",
    "import matplotlib.pyplot as plt\n",
    "import seaborn as sns\n",
    "\n",
    "plt.figure(figsize=(10, 6))\n",
    "sns.barplot(x=\"event\", y=\"Users\", data=funnel_data)\n",
    "plt.xticks(rotation=45)\n",
    "plt.title(\"Users at Each Funnel Stage\")\n",
    "plt.xlabel(\"Funnel Stage\")\n",
    "plt.ylabel(\"Number of Users\")\n",
    "plt.grid(True)\n",
    "plt.tight_layout()\n",
    "plt.show()"
   ]
  },
  {
   "cell_type": "code",
   "execution_count": null,
   "id": "89e50649",
   "metadata": {},
   "outputs": [],
   "source": [
    "# 🚪 Step 5: Drop-Off Rate Visualization\n",
    "plt.figure(figsize=(10, 6))\n",
    "sns.barplot(x=\"event\", y=\"Drop-off Rate (%)\", data=funnel_data)\n",
    "plt.xticks(rotation=45)\n",
    "plt.title(\"Drop-off Rate at Each Funnel Stage\")\n",
    "plt.xlabel(\"Funnel Stage\")\n",
    "plt.ylabel(\"Drop-off Rate (%)\")\n",
    "plt.grid(True)\n",
    "plt.tight_layout()\n",
    "plt.show()"
   ]
  },
  {
   "cell_type": "markdown",
   "id": "ceafd2b4",
   "metadata": {},
   "source": [
    "## 💡 Step 6: Insights & Recommendations\n",
    "\n",
    "- Most users drop off between **Product Page View → Add to Cart** and **Add to Cart → Checkout Started**.\n",
    "- Possible reasons: lack of trust, complex UI, or missing information.\n",
    "- **Recommendations**:\n",
    "  - Show trust badges, reviews, and return policies on product pages.\n",
    "  - Simplify the cart and checkout flow.\n",
    "  - Use retargeting emails for abandoned carts.\n"
   ]
  }
 ],
 "metadata": {},
 "nbformat": 4,
 "nbformat_minor": 5
}
